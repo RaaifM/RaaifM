{
 "cells": [
  {
   "cell_type": "markdown",
   "id": "3ff3327c",
   "metadata": {},
   "source": [
    "# Current Market Data"
   ]
  },
  {
   "cell_type": "code",
   "execution_count": 1,
   "id": "cb4b2260",
   "metadata": {},
   "outputs": [
    {
     "name": "stdout",
     "output_type": "stream",
     "text": [
      "Authenticated successfully.\n",
      "found: Apple Inc (Extended Hours) | EPIC: AAPL\n",
      "\n",
      " Apple Market Data:\n",
      "  Bid: 210.21\n",
      "  Ask: 210.42\n",
      "  High: 213.04\n",
      "  Low: 209.75\n",
      "  Change: -0.73%\n",
      "  Update Time: 2025-07-03T14:15:44.078\n"
     ]
    }
   ],
   "source": [
    "import requests\n",
    "\n",
    "# --------- CONFIG ---------\n",
    "API_KEY = '82cVbf8l0u54701P'              # Replace with your API key\n",
    "BASE_URL = 'https://demo-api-capital.backend-capital.com'\n",
    "LOGIN_URL = f'{BASE_URL}/api/v1/session'\n",
    "EMAIL = 'raaifmookanay@gmail.com'            \n",
    "PASSWORD = 'Liwa@2014'    \n",
    "SEARCH_TERM = 'Apple'\n",
    "# --------------------------\n",
    "\n",
    "# Step 1: Authenticate\n",
    "def authenticate():\n",
    "    headers = {'X-CAP-API-KEY': API_KEY}\n",
    "    payload = {'identifier': EMAIL, 'password': PASSWORD}\n",
    "    res = requests.post(LOGIN_URL, json=payload, headers=headers)\n",
    "    if res.status_code != 200:\n",
    "        raise Exception(\"Authentication failed:\", res.json())\n",
    "    cst = res.headers['CST']\n",
    "    xst = res.headers['X-SECURITY-TOKEN']\n",
    "    print(\"Authenticated successfully.\")\n",
    "    return cst, xst\n",
    "\n",
    "# Step 2: Search for Apple and get EPIC\n",
    "def get_apple_epic(cst, xst):\n",
    "    headers = {\n",
    "        'CST': cst,\n",
    "        'X-SECURITY-TOKEN': xst,\n",
    "        'X-CAP-API-KEY': API_KEY\n",
    "    }\n",
    "    params = {'search': SEARCH_TERM}\n",
    "    res = requests.get(f\"{BASE_URL}/api/v1/markets\", headers=headers, params=params)\n",
    "    markets = res.json().get('markets', [])\n",
    "    for m in markets:\n",
    "        if 'Apple' in m['instrumentName']:\n",
    "            print(f\"found: {m['instrumentName']} | EPIC: {m['epic']}\")\n",
    "            return m['epic']\n",
    "    raise Exception(\"Apple stock not found.\")\n",
    "\n",
    "# Step 3: Get Market Snapshot\n",
    "def get_market_data(epic, cst, xst):\n",
    "    headers = {\n",
    "        'CST': cst,\n",
    "        'X-SECURITY-TOKEN': xst,\n",
    "        'X-CAP-API-KEY': API_KEY\n",
    "    }\n",
    "    res = requests.get(f\"{BASE_URL}/api/v1/markets/{epic}\", headers=headers)\n",
    "    if res.status_code != 200:\n",
    "        print(\"Failed to fetch market data:\", res.json())\n",
    "        return\n",
    "    market_data = res.json()['snapshot']\n",
    "    print(f\"\\n Apple Market Data:\\n\"\n",
    "          f\"  Bid: {market_data['bid']}\\n\"\n",
    "          f\"  Ask: {market_data['offer']}\\n\"\n",
    "          f\"  High: {market_data['high']}\\n\"\n",
    "          f\"  Low: {market_data['low']}\\n\"\n",
    "          f\"  Change: {market_data['percentageChange']}%\\n\"\n",
    "          f\"  Update Time: {market_data['updateTime']}\")\n",
    "    \n",
    "\n",
    "# ---------- RUN ----------\n",
    "if __name__ == \"__main__\":\n",
    "    cst, xst = authenticate()\n",
    "    epic = get_apple_epic(cst, xst)\n",
    "    get_market_data(epic, cst, xst)\n"
   ]
  },
  {
   "cell_type": "markdown",
   "id": "bf29c4db",
   "metadata": {},
   "source": [
    "# Historical data"
   ]
  },
  {
   "cell_type": "code",
   "execution_count": 2,
   "id": "c530c438",
   "metadata": {},
   "outputs": [],
   "source": [
    "from datetime import datetime\n",
    "import matplotlib.pyplot as plt\n",
    "from dateutil import parser \n",
    "import pandas as pd\n",
    "\n",
    "def get_price_history(epic, cst, xst, resolution=\"DAY\", from_date= None, to_date= None, max_points=1000):\n",
    "    headers = {\n",
    "        'CST': cst,\n",
    "        'X-SECURITY-TOKEN': xst,\n",
    "        'X-CAP-API-KEY': API_KEY\n",
    "    }\n",
    "\n",
    "    params = {\n",
    "        'resolution': resolution,\n",
    "        'max': max_points\n",
    "    }\n",
    "\n",
    "    if from_date and to_date:\n",
    "        params['from'] = from_date\n",
    "        params['to'] = to_date\n",
    "\n",
    "    url = f\"{BASE_URL}/api/v1/prices/{epic}\"\n",
    "    response = requests.get(url, headers=headers, params=params)\n",
    "    #print(\"🔎 Raw response:\", response.status_code, response.text)\n",
    "\n",
    "    if response.status_code != 200:\n",
    "        print(\"❌ Error getting historical data:\", response.json())\n",
    "        return\n",
    "\n",
    "    prices = response.json().get(\"prices\", [])\n",
    "    print(f\"✅ Retrieved {len(prices)} candles\")\n",
    "\n",
    "    # Prepare list of dicts for DataFrame\n",
    "    data = []\n",
    "    for p in prices:\n",
    "        data.append({\n",
    "            \"Time\": parser.isoparse(p['snapshotTime']),\n",
    "            \"Open\": p['openPrice']['bid'],\n",
    "            \"High\": p['highPrice']['bid'],\n",
    "            \"Low\": p['lowPrice']['bid'],\n",
    "            \"Close_Bid\": p['closePrice']['bid'],\n",
    "            \"Close_Ask\": p['closePrice']['ask'],\n",
    "            \"Volume\": p.get('volume', None)\n",
    "        })\n",
    "\n",
    "    df = pd.DataFrame(data)\n",
    "    return df"
   ]
  },
  {
   "cell_type": "markdown",
   "id": "5b82544f",
   "metadata": {},
   "source": [
    "# Pairs Trading (ARKK & PYPL)"
   ]
  },
  {
   "cell_type": "markdown",
   "id": "a9faf9fc",
   "metadata": {},
   "source": [
    "## ARKK Data"
   ]
  },
  {
   "cell_type": "code",
   "execution_count": 3,
   "id": "2f9ced14",
   "metadata": {},
   "outputs": [
    {
     "name": "stdout",
     "output_type": "stream",
     "text": [
      "✅ Retrieved 502 candles\n"
     ]
    }
   ],
   "source": [
    "arkk1 = get_price_history(\n",
    "    epic= \"ARKK\",\n",
    "    cst=cst,\n",
    "    xst=xst,\n",
    "    resolution=\"DAY\",\n",
    "    from_date=\"2021-01-01T00:00:00\",\n",
    "    to_date=\"2023-01-01T00:00:00\"\n",
    ")"
   ]
  },
  {
   "cell_type": "code",
   "execution_count": 4,
   "id": "c8e63fe7",
   "metadata": {},
   "outputs": [
    {
     "data": {
      "text/html": [
       "<div>\n",
       "<style scoped>\n",
       "    .dataframe tbody tr th:only-of-type {\n",
       "        vertical-align: middle;\n",
       "    }\n",
       "\n",
       "    .dataframe tbody tr th {\n",
       "        vertical-align: top;\n",
       "    }\n",
       "\n",
       "    .dataframe thead th {\n",
       "        text-align: right;\n",
       "    }\n",
       "</style>\n",
       "<table border=\"1\" class=\"dataframe\">\n",
       "  <thead>\n",
       "    <tr style=\"text-align: right;\">\n",
       "      <th></th>\n",
       "      <th>Time</th>\n",
       "      <th>Open</th>\n",
       "      <th>High</th>\n",
       "      <th>Low</th>\n",
       "      <th>Close_Bid</th>\n",
       "      <th>Close_Ask</th>\n",
       "      <th>Volume</th>\n",
       "    </tr>\n",
       "  </thead>\n",
       "  <tbody>\n",
       "    <tr>\n",
       "      <th>0</th>\n",
       "      <td>2021-01-04 04:00:00</td>\n",
       "      <td>125.72</td>\n",
       "      <td>126.76</td>\n",
       "      <td>122.05</td>\n",
       "      <td>124.30</td>\n",
       "      <td>125.13</td>\n",
       "      <td>None</td>\n",
       "    </tr>\n",
       "    <tr>\n",
       "      <th>1</th>\n",
       "      <td>2021-01-05 04:00:00</td>\n",
       "      <td>123.92</td>\n",
       "      <td>127.43</td>\n",
       "      <td>123.91</td>\n",
       "      <td>127.37</td>\n",
       "      <td>128.21</td>\n",
       "      <td>None</td>\n",
       "    </tr>\n",
       "    <tr>\n",
       "      <th>2</th>\n",
       "      <td>2021-01-06 04:00:00</td>\n",
       "      <td>126.26</td>\n",
       "      <td>130.71</td>\n",
       "      <td>125.45</td>\n",
       "      <td>127.71</td>\n",
       "      <td>128.65</td>\n",
       "      <td>None</td>\n",
       "    </tr>\n",
       "    <tr>\n",
       "      <th>3</th>\n",
       "      <td>2021-01-07 04:00:00</td>\n",
       "      <td>130.69</td>\n",
       "      <td>138.18</td>\n",
       "      <td>130.69</td>\n",
       "      <td>137.87</td>\n",
       "      <td>138.83</td>\n",
       "      <td>None</td>\n",
       "    </tr>\n",
       "    <tr>\n",
       "      <th>4</th>\n",
       "      <td>2021-01-08 04:00:00</td>\n",
       "      <td>141.55</td>\n",
       "      <td>145.17</td>\n",
       "      <td>138.86</td>\n",
       "      <td>142.03</td>\n",
       "      <td>143.03</td>\n",
       "      <td>None</td>\n",
       "    </tr>\n",
       "    <tr>\n",
       "      <th>...</th>\n",
       "      <td>...</td>\n",
       "      <td>...</td>\n",
       "      <td>...</td>\n",
       "      <td>...</td>\n",
       "      <td>...</td>\n",
       "      <td>...</td>\n",
       "      <td>...</td>\n",
       "    </tr>\n",
       "    <tr>\n",
       "      <th>497</th>\n",
       "      <td>2022-12-23 04:00:00</td>\n",
       "      <td>31.30</td>\n",
       "      <td>31.53</td>\n",
       "      <td>30.57</td>\n",
       "      <td>30.76</td>\n",
       "      <td>31.11</td>\n",
       "      <td>None</td>\n",
       "    </tr>\n",
       "    <tr>\n",
       "      <th>498</th>\n",
       "      <td>2022-12-27 04:00:00</td>\n",
       "      <td>30.39</td>\n",
       "      <td>30.44</td>\n",
       "      <td>29.54</td>\n",
       "      <td>29.66</td>\n",
       "      <td>29.90</td>\n",
       "      <td>None</td>\n",
       "    </tr>\n",
       "    <tr>\n",
       "      <th>499</th>\n",
       "      <td>2022-12-28 04:00:00</td>\n",
       "      <td>29.56</td>\n",
       "      <td>30.15</td>\n",
       "      <td>29.32</td>\n",
       "      <td>29.53</td>\n",
       "      <td>30.12</td>\n",
       "      <td>None</td>\n",
       "    </tr>\n",
       "    <tr>\n",
       "      <th>500</th>\n",
       "      <td>2022-12-29 04:00:00</td>\n",
       "      <td>30.11</td>\n",
       "      <td>31.27</td>\n",
       "      <td>29.84</td>\n",
       "      <td>30.94</td>\n",
       "      <td>31.31</td>\n",
       "      <td>None</td>\n",
       "    </tr>\n",
       "    <tr>\n",
       "      <th>501</th>\n",
       "      <td>2022-12-30 04:00:00</td>\n",
       "      <td>30.32</td>\n",
       "      <td>31.16</td>\n",
       "      <td>30.13</td>\n",
       "      <td>31.06</td>\n",
       "      <td>31.42</td>\n",
       "      <td>None</td>\n",
       "    </tr>\n",
       "  </tbody>\n",
       "</table>\n",
       "<p>502 rows × 7 columns</p>\n",
       "</div>"
      ],
      "text/plain": [
       "                   Time    Open    High     Low  Close_Bid  Close_Ask Volume\n",
       "0   2021-01-04 04:00:00  125.72  126.76  122.05     124.30     125.13   None\n",
       "1   2021-01-05 04:00:00  123.92  127.43  123.91     127.37     128.21   None\n",
       "2   2021-01-06 04:00:00  126.26  130.71  125.45     127.71     128.65   None\n",
       "3   2021-01-07 04:00:00  130.69  138.18  130.69     137.87     138.83   None\n",
       "4   2021-01-08 04:00:00  141.55  145.17  138.86     142.03     143.03   None\n",
       "..                  ...     ...     ...     ...        ...        ...    ...\n",
       "497 2022-12-23 04:00:00   31.30   31.53   30.57      30.76      31.11   None\n",
       "498 2022-12-27 04:00:00   30.39   30.44   29.54      29.66      29.90   None\n",
       "499 2022-12-28 04:00:00   29.56   30.15   29.32      29.53      30.12   None\n",
       "500 2022-12-29 04:00:00   30.11   31.27   29.84      30.94      31.31   None\n",
       "501 2022-12-30 04:00:00   30.32   31.16   30.13      31.06      31.42   None\n",
       "\n",
       "[502 rows x 7 columns]"
      ]
     },
     "execution_count": 4,
     "metadata": {},
     "output_type": "execute_result"
    }
   ],
   "source": [
    "arkk1"
   ]
  },
  {
   "cell_type": "code",
   "execution_count": 5,
   "id": "4967c06f",
   "metadata": {},
   "outputs": [
    {
     "name": "stdout",
     "output_type": "stream",
     "text": [
      "✅ Retrieved 625 candles\n"
     ]
    }
   ],
   "source": [
    "arkk2 = get_price_history(\n",
    "    epic= \"ARKK\",\n",
    "    cst=cst,\n",
    "    xst=xst,\n",
    "    resolution=\"DAY\",\n",
    "    from_date=\"2023-01-01T00:00:00\",\n",
    "    to_date=\"2025-07-01T00:00:00\"\n",
    ")"
   ]
  },
  {
   "cell_type": "code",
   "execution_count": 6,
   "id": "651fe955",
   "metadata": {},
   "outputs": [
    {
     "data": {
      "text/html": [
       "<div>\n",
       "<style scoped>\n",
       "    .dataframe tbody tr th:only-of-type {\n",
       "        vertical-align: middle;\n",
       "    }\n",
       "\n",
       "    .dataframe tbody tr th {\n",
       "        vertical-align: top;\n",
       "    }\n",
       "\n",
       "    .dataframe thead th {\n",
       "        text-align: right;\n",
       "    }\n",
       "</style>\n",
       "<table border=\"1\" class=\"dataframe\">\n",
       "  <thead>\n",
       "    <tr style=\"text-align: right;\">\n",
       "      <th></th>\n",
       "      <th>Time</th>\n",
       "      <th>Open</th>\n",
       "      <th>High</th>\n",
       "      <th>Low</th>\n",
       "      <th>Close_Bid</th>\n",
       "      <th>Close_Ask</th>\n",
       "      <th>Volume</th>\n",
       "    </tr>\n",
       "  </thead>\n",
       "  <tbody>\n",
       "    <tr>\n",
       "      <th>0</th>\n",
       "      <td>2023-01-03 04:00:00</td>\n",
       "      <td>31.74</td>\n",
       "      <td>32.01</td>\n",
       "      <td>29.91</td>\n",
       "      <td>30.31</td>\n",
       "      <td>30.65</td>\n",
       "      <td>None</td>\n",
       "    </tr>\n",
       "    <tr>\n",
       "      <th>1</th>\n",
       "      <td>2023-01-04 04:00:00</td>\n",
       "      <td>30.85</td>\n",
       "      <td>31.81</td>\n",
       "      <td>30.46</td>\n",
       "      <td>31.61</td>\n",
       "      <td>31.98</td>\n",
       "      <td>None</td>\n",
       "    </tr>\n",
       "    <tr>\n",
       "      <th>2</th>\n",
       "      <td>2023-01-05 04:00:00</td>\n",
       "      <td>31.22</td>\n",
       "      <td>31.30</td>\n",
       "      <td>30.43</td>\n",
       "      <td>30.85</td>\n",
       "      <td>31.19</td>\n",
       "      <td>None</td>\n",
       "    </tr>\n",
       "    <tr>\n",
       "      <th>3</th>\n",
       "      <td>2023-01-06 04:00:00</td>\n",
       "      <td>30.93</td>\n",
       "      <td>31.55</td>\n",
       "      <td>29.94</td>\n",
       "      <td>30.87</td>\n",
       "      <td>31.50</td>\n",
       "      <td>None</td>\n",
       "    </tr>\n",
       "    <tr>\n",
       "      <th>4</th>\n",
       "      <td>2023-01-09 04:00:00</td>\n",
       "      <td>32.34</td>\n",
       "      <td>33.32</td>\n",
       "      <td>31.90</td>\n",
       "      <td>32.49</td>\n",
       "      <td>33.35</td>\n",
       "      <td>None</td>\n",
       "    </tr>\n",
       "    <tr>\n",
       "      <th>...</th>\n",
       "      <td>...</td>\n",
       "      <td>...</td>\n",
       "      <td>...</td>\n",
       "      <td>...</td>\n",
       "      <td>...</td>\n",
       "      <td>...</td>\n",
       "      <td>...</td>\n",
       "    </tr>\n",
       "    <tr>\n",
       "      <th>620</th>\n",
       "      <td>2025-06-25 04:00:00</td>\n",
       "      <td>70.76</td>\n",
       "      <td>71.22</td>\n",
       "      <td>68.59</td>\n",
       "      <td>68.59</td>\n",
       "      <td>69.76</td>\n",
       "      <td>None</td>\n",
       "    </tr>\n",
       "    <tr>\n",
       "      <th>621</th>\n",
       "      <td>2025-06-26 04:00:00</td>\n",
       "      <td>69.77</td>\n",
       "      <td>71.12</td>\n",
       "      <td>69.55</td>\n",
       "      <td>69.87</td>\n",
       "      <td>72.05</td>\n",
       "      <td>None</td>\n",
       "    </tr>\n",
       "    <tr>\n",
       "      <th>622</th>\n",
       "      <td>2025-06-27 04:00:00</td>\n",
       "      <td>71.04</td>\n",
       "      <td>71.10</td>\n",
       "      <td>68.86</td>\n",
       "      <td>69.50</td>\n",
       "      <td>69.90</td>\n",
       "      <td>None</td>\n",
       "    </tr>\n",
       "    <tr>\n",
       "      <th>623</th>\n",
       "      <td>2025-06-30 04:00:00</td>\n",
       "      <td>70.15</td>\n",
       "      <td>70.89</td>\n",
       "      <td>69.95</td>\n",
       "      <td>69.95</td>\n",
       "      <td>72.05</td>\n",
       "      <td>None</td>\n",
       "    </tr>\n",
       "    <tr>\n",
       "      <th>624</th>\n",
       "      <td>2025-07-01 04:00:00</td>\n",
       "      <td>69.17</td>\n",
       "      <td>69.90</td>\n",
       "      <td>66.50</td>\n",
       "      <td>66.50</td>\n",
       "      <td>69.14</td>\n",
       "      <td>None</td>\n",
       "    </tr>\n",
       "  </tbody>\n",
       "</table>\n",
       "<p>625 rows × 7 columns</p>\n",
       "</div>"
      ],
      "text/plain": [
       "                   Time   Open   High    Low  Close_Bid  Close_Ask Volume\n",
       "0   2023-01-03 04:00:00  31.74  32.01  29.91      30.31      30.65   None\n",
       "1   2023-01-04 04:00:00  30.85  31.81  30.46      31.61      31.98   None\n",
       "2   2023-01-05 04:00:00  31.22  31.30  30.43      30.85      31.19   None\n",
       "3   2023-01-06 04:00:00  30.93  31.55  29.94      30.87      31.50   None\n",
       "4   2023-01-09 04:00:00  32.34  33.32  31.90      32.49      33.35   None\n",
       "..                  ...    ...    ...    ...        ...        ...    ...\n",
       "620 2025-06-25 04:00:00  70.76  71.22  68.59      68.59      69.76   None\n",
       "621 2025-06-26 04:00:00  69.77  71.12  69.55      69.87      72.05   None\n",
       "622 2025-06-27 04:00:00  71.04  71.10  68.86      69.50      69.90   None\n",
       "623 2025-06-30 04:00:00  70.15  70.89  69.95      69.95      72.05   None\n",
       "624 2025-07-01 04:00:00  69.17  69.90  66.50      66.50      69.14   None\n",
       "\n",
       "[625 rows x 7 columns]"
      ]
     },
     "execution_count": 6,
     "metadata": {},
     "output_type": "execute_result"
    }
   ],
   "source": [
    "arkk2"
   ]
  },
  {
   "cell_type": "code",
   "execution_count": 7,
   "id": "11447d81",
   "metadata": {},
   "outputs": [],
   "source": [
    "arkk = pd.concat([arkk1, arkk2], ignore_index = True)"
   ]
  },
  {
   "cell_type": "code",
   "execution_count": 8,
   "id": "82906aa9",
   "metadata": {},
   "outputs": [
    {
     "data": {
      "text/html": [
       "<div>\n",
       "<style scoped>\n",
       "    .dataframe tbody tr th:only-of-type {\n",
       "        vertical-align: middle;\n",
       "    }\n",
       "\n",
       "    .dataframe tbody tr th {\n",
       "        vertical-align: top;\n",
       "    }\n",
       "\n",
       "    .dataframe thead th {\n",
       "        text-align: right;\n",
       "    }\n",
       "</style>\n",
       "<table border=\"1\" class=\"dataframe\">\n",
       "  <thead>\n",
       "    <tr style=\"text-align: right;\">\n",
       "      <th></th>\n",
       "      <th>Time</th>\n",
       "      <th>Open</th>\n",
       "      <th>High</th>\n",
       "      <th>Low</th>\n",
       "      <th>Close_Bid</th>\n",
       "      <th>Close_Ask</th>\n",
       "      <th>Volume</th>\n",
       "    </tr>\n",
       "  </thead>\n",
       "  <tbody>\n",
       "    <tr>\n",
       "      <th>0</th>\n",
       "      <td>2021-01-04 04:00:00</td>\n",
       "      <td>125.72</td>\n",
       "      <td>126.76</td>\n",
       "      <td>122.05</td>\n",
       "      <td>124.30</td>\n",
       "      <td>125.13</td>\n",
       "      <td>None</td>\n",
       "    </tr>\n",
       "    <tr>\n",
       "      <th>1</th>\n",
       "      <td>2021-01-05 04:00:00</td>\n",
       "      <td>123.92</td>\n",
       "      <td>127.43</td>\n",
       "      <td>123.91</td>\n",
       "      <td>127.37</td>\n",
       "      <td>128.21</td>\n",
       "      <td>None</td>\n",
       "    </tr>\n",
       "    <tr>\n",
       "      <th>2</th>\n",
       "      <td>2021-01-06 04:00:00</td>\n",
       "      <td>126.26</td>\n",
       "      <td>130.71</td>\n",
       "      <td>125.45</td>\n",
       "      <td>127.71</td>\n",
       "      <td>128.65</td>\n",
       "      <td>None</td>\n",
       "    </tr>\n",
       "    <tr>\n",
       "      <th>3</th>\n",
       "      <td>2021-01-07 04:00:00</td>\n",
       "      <td>130.69</td>\n",
       "      <td>138.18</td>\n",
       "      <td>130.69</td>\n",
       "      <td>137.87</td>\n",
       "      <td>138.83</td>\n",
       "      <td>None</td>\n",
       "    </tr>\n",
       "    <tr>\n",
       "      <th>4</th>\n",
       "      <td>2021-01-08 04:00:00</td>\n",
       "      <td>141.55</td>\n",
       "      <td>145.17</td>\n",
       "      <td>138.86</td>\n",
       "      <td>142.03</td>\n",
       "      <td>143.03</td>\n",
       "      <td>None</td>\n",
       "    </tr>\n",
       "    <tr>\n",
       "      <th>...</th>\n",
       "      <td>...</td>\n",
       "      <td>...</td>\n",
       "      <td>...</td>\n",
       "      <td>...</td>\n",
       "      <td>...</td>\n",
       "      <td>...</td>\n",
       "      <td>...</td>\n",
       "    </tr>\n",
       "    <tr>\n",
       "      <th>1122</th>\n",
       "      <td>2025-06-25 04:00:00</td>\n",
       "      <td>70.76</td>\n",
       "      <td>71.22</td>\n",
       "      <td>68.59</td>\n",
       "      <td>68.59</td>\n",
       "      <td>69.76</td>\n",
       "      <td>None</td>\n",
       "    </tr>\n",
       "    <tr>\n",
       "      <th>1123</th>\n",
       "      <td>2025-06-26 04:00:00</td>\n",
       "      <td>69.77</td>\n",
       "      <td>71.12</td>\n",
       "      <td>69.55</td>\n",
       "      <td>69.87</td>\n",
       "      <td>72.05</td>\n",
       "      <td>None</td>\n",
       "    </tr>\n",
       "    <tr>\n",
       "      <th>1124</th>\n",
       "      <td>2025-06-27 04:00:00</td>\n",
       "      <td>71.04</td>\n",
       "      <td>71.10</td>\n",
       "      <td>68.86</td>\n",
       "      <td>69.50</td>\n",
       "      <td>69.90</td>\n",
       "      <td>None</td>\n",
       "    </tr>\n",
       "    <tr>\n",
       "      <th>1125</th>\n",
       "      <td>2025-06-30 04:00:00</td>\n",
       "      <td>70.15</td>\n",
       "      <td>70.89</td>\n",
       "      <td>69.95</td>\n",
       "      <td>69.95</td>\n",
       "      <td>72.05</td>\n",
       "      <td>None</td>\n",
       "    </tr>\n",
       "    <tr>\n",
       "      <th>1126</th>\n",
       "      <td>2025-07-01 04:00:00</td>\n",
       "      <td>69.17</td>\n",
       "      <td>69.90</td>\n",
       "      <td>66.50</td>\n",
       "      <td>66.50</td>\n",
       "      <td>69.14</td>\n",
       "      <td>None</td>\n",
       "    </tr>\n",
       "  </tbody>\n",
       "</table>\n",
       "<p>1127 rows × 7 columns</p>\n",
       "</div>"
      ],
      "text/plain": [
       "                    Time    Open    High     Low  Close_Bid  Close_Ask Volume\n",
       "0    2021-01-04 04:00:00  125.72  126.76  122.05     124.30     125.13   None\n",
       "1    2021-01-05 04:00:00  123.92  127.43  123.91     127.37     128.21   None\n",
       "2    2021-01-06 04:00:00  126.26  130.71  125.45     127.71     128.65   None\n",
       "3    2021-01-07 04:00:00  130.69  138.18  130.69     137.87     138.83   None\n",
       "4    2021-01-08 04:00:00  141.55  145.17  138.86     142.03     143.03   None\n",
       "...                  ...     ...     ...     ...        ...        ...    ...\n",
       "1122 2025-06-25 04:00:00   70.76   71.22   68.59      68.59      69.76   None\n",
       "1123 2025-06-26 04:00:00   69.77   71.12   69.55      69.87      72.05   None\n",
       "1124 2025-06-27 04:00:00   71.04   71.10   68.86      69.50      69.90   None\n",
       "1125 2025-06-30 04:00:00   70.15   70.89   69.95      69.95      72.05   None\n",
       "1126 2025-07-01 04:00:00   69.17   69.90   66.50      66.50      69.14   None\n",
       "\n",
       "[1127 rows x 7 columns]"
      ]
     },
     "execution_count": 8,
     "metadata": {},
     "output_type": "execute_result"
    }
   ],
   "source": [
    "arkk"
   ]
  },
  {
   "cell_type": "markdown",
   "id": "dc4c574c",
   "metadata": {},
   "source": [
    "## PYPL Data"
   ]
  },
  {
   "cell_type": "code",
   "execution_count": 9,
   "id": "aed3cda5",
   "metadata": {},
   "outputs": [
    {
     "name": "stdout",
     "output_type": "stream",
     "text": [
      "✅ Retrieved 507 candles\n"
     ]
    }
   ],
   "source": [
    "pypl1 = get_price_history(\n",
    "    epic= \"PYPL\",\n",
    "    cst=cst,\n",
    "    xst=xst,\n",
    "    resolution=\"DAY\",\n",
    "    from_date=\"2021-01-01T00:00:00\",\n",
    "    to_date=\"2023-01-01T00:00:00\"\n",
    ")"
   ]
  },
  {
   "cell_type": "code",
   "execution_count": 10,
   "id": "ceaaa543",
   "metadata": {},
   "outputs": [
    {
     "name": "stdout",
     "output_type": "stream",
     "text": [
      "✅ Retrieved 629 candles\n"
     ]
    }
   ],
   "source": [
    "pypl2 = get_price_history(\n",
    "    epic= \"PYPL\",\n",
    "    cst=cst,\n",
    "    xst=xst,\n",
    "    resolution=\"DAY\",\n",
    "    from_date=\"2023-01-01T00:00:00\",\n",
    "    to_date=\"2025-07-01T00:00:00\"\n",
    ")"
   ]
  },
  {
   "cell_type": "code",
   "execution_count": 11,
   "id": "14362b0c",
   "metadata": {},
   "outputs": [],
   "source": [
    "pypl = pd.concat([pypl1, pypl2],ignore_index = True)"
   ]
  },
  {
   "cell_type": "code",
   "execution_count": 12,
   "id": "6cf11515",
   "metadata": {},
   "outputs": [
    {
     "data": {
      "text/html": [
       "<div>\n",
       "<style scoped>\n",
       "    .dataframe tbody tr th:only-of-type {\n",
       "        vertical-align: middle;\n",
       "    }\n",
       "\n",
       "    .dataframe tbody tr th {\n",
       "        vertical-align: top;\n",
       "    }\n",
       "\n",
       "    .dataframe thead th {\n",
       "        text-align: right;\n",
       "    }\n",
       "</style>\n",
       "<table border=\"1\" class=\"dataframe\">\n",
       "  <thead>\n",
       "    <tr style=\"text-align: right;\">\n",
       "      <th></th>\n",
       "      <th>Time</th>\n",
       "      <th>Open</th>\n",
       "      <th>High</th>\n",
       "      <th>Low</th>\n",
       "      <th>Close_Bid</th>\n",
       "      <th>Close_Ask</th>\n",
       "      <th>Volume</th>\n",
       "    </tr>\n",
       "  </thead>\n",
       "  <tbody>\n",
       "    <tr>\n",
       "      <th>0</th>\n",
       "      <td>2021-01-01 04:00:00</td>\n",
       "      <td>233.99</td>\n",
       "      <td>234.00</td>\n",
       "      <td>233.79</td>\n",
       "      <td>233.79</td>\n",
       "      <td>234.41</td>\n",
       "      <td>None</td>\n",
       "    </tr>\n",
       "    <tr>\n",
       "      <th>1</th>\n",
       "      <td>2021-01-04 04:00:00</td>\n",
       "      <td>237.79</td>\n",
       "      <td>237.79</td>\n",
       "      <td>227.32</td>\n",
       "      <td>230.84</td>\n",
       "      <td>231.96</td>\n",
       "      <td>None</td>\n",
       "    </tr>\n",
       "    <tr>\n",
       "      <th>2</th>\n",
       "      <td>2021-01-05 04:00:00</td>\n",
       "      <td>230.84</td>\n",
       "      <td>235.54</td>\n",
       "      <td>228.12</td>\n",
       "      <td>235.29</td>\n",
       "      <td>236.11</td>\n",
       "      <td>None</td>\n",
       "    </tr>\n",
       "    <tr>\n",
       "      <th>3</th>\n",
       "      <td>2021-01-06 04:00:00</td>\n",
       "      <td>235.31</td>\n",
       "      <td>235.79</td>\n",
       "      <td>225.40</td>\n",
       "      <td>227.35</td>\n",
       "      <td>228.14</td>\n",
       "      <td>None</td>\n",
       "    </tr>\n",
       "    <tr>\n",
       "      <th>4</th>\n",
       "      <td>2021-01-07 04:00:00</td>\n",
       "      <td>227.55</td>\n",
       "      <td>235.38</td>\n",
       "      <td>226.70</td>\n",
       "      <td>234.43</td>\n",
       "      <td>235.41</td>\n",
       "      <td>None</td>\n",
       "    </tr>\n",
       "    <tr>\n",
       "      <th>...</th>\n",
       "      <td>...</td>\n",
       "      <td>...</td>\n",
       "      <td>...</td>\n",
       "      <td>...</td>\n",
       "      <td>...</td>\n",
       "      <td>...</td>\n",
       "      <td>...</td>\n",
       "    </tr>\n",
       "    <tr>\n",
       "      <th>1131</th>\n",
       "      <td>2025-06-25 04:00:00</td>\n",
       "      <td>73.31</td>\n",
       "      <td>74.15</td>\n",
       "      <td>72.36</td>\n",
       "      <td>73.01</td>\n",
       "      <td>73.22</td>\n",
       "      <td>None</td>\n",
       "    </tr>\n",
       "    <tr>\n",
       "      <th>1132</th>\n",
       "      <td>2025-06-26 04:00:00</td>\n",
       "      <td>72.99</td>\n",
       "      <td>73.82</td>\n",
       "      <td>71.56</td>\n",
       "      <td>72.77</td>\n",
       "      <td>73.30</td>\n",
       "      <td>None</td>\n",
       "    </tr>\n",
       "    <tr>\n",
       "      <th>1133</th>\n",
       "      <td>2025-06-27 04:00:00</td>\n",
       "      <td>73.23</td>\n",
       "      <td>73.69</td>\n",
       "      <td>72.80</td>\n",
       "      <td>73.45</td>\n",
       "      <td>73.66</td>\n",
       "      <td>None</td>\n",
       "    </tr>\n",
       "    <tr>\n",
       "      <th>1134</th>\n",
       "      <td>2025-06-30 04:00:00</td>\n",
       "      <td>73.83</td>\n",
       "      <td>74.49</td>\n",
       "      <td>73.59</td>\n",
       "      <td>74.18</td>\n",
       "      <td>74.36</td>\n",
       "      <td>None</td>\n",
       "    </tr>\n",
       "    <tr>\n",
       "      <th>1135</th>\n",
       "      <td>2025-07-01 04:00:00</td>\n",
       "      <td>73.75</td>\n",
       "      <td>75.64</td>\n",
       "      <td>73.45</td>\n",
       "      <td>75.15</td>\n",
       "      <td>75.45</td>\n",
       "      <td>None</td>\n",
       "    </tr>\n",
       "  </tbody>\n",
       "</table>\n",
       "<p>1136 rows × 7 columns</p>\n",
       "</div>"
      ],
      "text/plain": [
       "                    Time    Open    High     Low  Close_Bid  Close_Ask Volume\n",
       "0    2021-01-01 04:00:00  233.99  234.00  233.79     233.79     234.41   None\n",
       "1    2021-01-04 04:00:00  237.79  237.79  227.32     230.84     231.96   None\n",
       "2    2021-01-05 04:00:00  230.84  235.54  228.12     235.29     236.11   None\n",
       "3    2021-01-06 04:00:00  235.31  235.79  225.40     227.35     228.14   None\n",
       "4    2021-01-07 04:00:00  227.55  235.38  226.70     234.43     235.41   None\n",
       "...                  ...     ...     ...     ...        ...        ...    ...\n",
       "1131 2025-06-25 04:00:00   73.31   74.15   72.36      73.01      73.22   None\n",
       "1132 2025-06-26 04:00:00   72.99   73.82   71.56      72.77      73.30   None\n",
       "1133 2025-06-27 04:00:00   73.23   73.69   72.80      73.45      73.66   None\n",
       "1134 2025-06-30 04:00:00   73.83   74.49   73.59      74.18      74.36   None\n",
       "1135 2025-07-01 04:00:00   73.75   75.64   73.45      75.15      75.45   None\n",
       "\n",
       "[1136 rows x 7 columns]"
      ]
     },
     "execution_count": 12,
     "metadata": {},
     "output_type": "execute_result"
    }
   ],
   "source": [
    "pypl"
   ]
  },
  {
   "cell_type": "markdown",
   "id": "f1e8012c",
   "metadata": {},
   "source": [
    "## Left Join ARKK & PYPL"
   ]
  },
  {
   "cell_type": "code",
   "execution_count": 13,
   "id": "29fc88a0",
   "metadata": {},
   "outputs": [],
   "source": [
    "pairs = pd.merge(arkk, pypl, on = \"Time\", how = \"inner\")"
   ]
  },
  {
   "cell_type": "code",
   "execution_count": 14,
   "id": "78d365ee",
   "metadata": {},
   "outputs": [
    {
     "data": {
      "text/html": [
       "<div>\n",
       "<style scoped>\n",
       "    .dataframe tbody tr th:only-of-type {\n",
       "        vertical-align: middle;\n",
       "    }\n",
       "\n",
       "    .dataframe tbody tr th {\n",
       "        vertical-align: top;\n",
       "    }\n",
       "\n",
       "    .dataframe thead th {\n",
       "        text-align: right;\n",
       "    }\n",
       "</style>\n",
       "<table border=\"1\" class=\"dataframe\">\n",
       "  <thead>\n",
       "    <tr style=\"text-align: right;\">\n",
       "      <th></th>\n",
       "      <th>Time</th>\n",
       "      <th>Open_x</th>\n",
       "      <th>High_x</th>\n",
       "      <th>Low_x</th>\n",
       "      <th>Close_Bid_x</th>\n",
       "      <th>Close_Ask_x</th>\n",
       "      <th>Volume_x</th>\n",
       "      <th>Open_y</th>\n",
       "      <th>High_y</th>\n",
       "      <th>Low_y</th>\n",
       "      <th>Close_Bid_y</th>\n",
       "      <th>Close_Ask_y</th>\n",
       "      <th>Volume_y</th>\n",
       "    </tr>\n",
       "  </thead>\n",
       "  <tbody>\n",
       "    <tr>\n",
       "      <th>0</th>\n",
       "      <td>2021-01-04 04:00:00</td>\n",
       "      <td>125.72</td>\n",
       "      <td>126.76</td>\n",
       "      <td>122.05</td>\n",
       "      <td>124.30</td>\n",
       "      <td>125.13</td>\n",
       "      <td>None</td>\n",
       "      <td>237.79</td>\n",
       "      <td>237.79</td>\n",
       "      <td>227.32</td>\n",
       "      <td>230.84</td>\n",
       "      <td>231.96</td>\n",
       "      <td>None</td>\n",
       "    </tr>\n",
       "    <tr>\n",
       "      <th>1</th>\n",
       "      <td>2021-01-05 04:00:00</td>\n",
       "      <td>123.92</td>\n",
       "      <td>127.43</td>\n",
       "      <td>123.91</td>\n",
       "      <td>127.37</td>\n",
       "      <td>128.21</td>\n",
       "      <td>None</td>\n",
       "      <td>230.84</td>\n",
       "      <td>235.54</td>\n",
       "      <td>228.12</td>\n",
       "      <td>235.29</td>\n",
       "      <td>236.11</td>\n",
       "      <td>None</td>\n",
       "    </tr>\n",
       "    <tr>\n",
       "      <th>2</th>\n",
       "      <td>2021-01-06 04:00:00</td>\n",
       "      <td>126.26</td>\n",
       "      <td>130.71</td>\n",
       "      <td>125.45</td>\n",
       "      <td>127.71</td>\n",
       "      <td>128.65</td>\n",
       "      <td>None</td>\n",
       "      <td>235.31</td>\n",
       "      <td>235.79</td>\n",
       "      <td>225.40</td>\n",
       "      <td>227.35</td>\n",
       "      <td>228.14</td>\n",
       "      <td>None</td>\n",
       "    </tr>\n",
       "    <tr>\n",
       "      <th>3</th>\n",
       "      <td>2021-01-07 04:00:00</td>\n",
       "      <td>130.69</td>\n",
       "      <td>138.18</td>\n",
       "      <td>130.69</td>\n",
       "      <td>137.87</td>\n",
       "      <td>138.83</td>\n",
       "      <td>None</td>\n",
       "      <td>227.55</td>\n",
       "      <td>235.38</td>\n",
       "      <td>226.70</td>\n",
       "      <td>234.43</td>\n",
       "      <td>235.41</td>\n",
       "      <td>None</td>\n",
       "    </tr>\n",
       "    <tr>\n",
       "      <th>4</th>\n",
       "      <td>2021-01-08 04:00:00</td>\n",
       "      <td>141.55</td>\n",
       "      <td>145.17</td>\n",
       "      <td>138.86</td>\n",
       "      <td>142.03</td>\n",
       "      <td>143.03</td>\n",
       "      <td>None</td>\n",
       "      <td>234.46</td>\n",
       "      <td>242.68</td>\n",
       "      <td>234.46</td>\n",
       "      <td>242.68</td>\n",
       "      <td>243.22</td>\n",
       "      <td>None</td>\n",
       "    </tr>\n",
       "    <tr>\n",
       "      <th>...</th>\n",
       "      <td>...</td>\n",
       "      <td>...</td>\n",
       "      <td>...</td>\n",
       "      <td>...</td>\n",
       "      <td>...</td>\n",
       "      <td>...</td>\n",
       "      <td>...</td>\n",
       "      <td>...</td>\n",
       "      <td>...</td>\n",
       "      <td>...</td>\n",
       "      <td>...</td>\n",
       "      <td>...</td>\n",
       "      <td>...</td>\n",
       "    </tr>\n",
       "    <tr>\n",
       "      <th>1122</th>\n",
       "      <td>2025-06-25 04:00:00</td>\n",
       "      <td>70.76</td>\n",
       "      <td>71.22</td>\n",
       "      <td>68.59</td>\n",
       "      <td>68.59</td>\n",
       "      <td>69.76</td>\n",
       "      <td>None</td>\n",
       "      <td>73.31</td>\n",
       "      <td>74.15</td>\n",
       "      <td>72.36</td>\n",
       "      <td>73.01</td>\n",
       "      <td>73.22</td>\n",
       "      <td>None</td>\n",
       "    </tr>\n",
       "    <tr>\n",
       "      <th>1123</th>\n",
       "      <td>2025-06-26 04:00:00</td>\n",
       "      <td>69.77</td>\n",
       "      <td>71.12</td>\n",
       "      <td>69.55</td>\n",
       "      <td>69.87</td>\n",
       "      <td>72.05</td>\n",
       "      <td>None</td>\n",
       "      <td>72.99</td>\n",
       "      <td>73.82</td>\n",
       "      <td>71.56</td>\n",
       "      <td>72.77</td>\n",
       "      <td>73.30</td>\n",
       "      <td>None</td>\n",
       "    </tr>\n",
       "    <tr>\n",
       "      <th>1124</th>\n",
       "      <td>2025-06-27 04:00:00</td>\n",
       "      <td>71.04</td>\n",
       "      <td>71.10</td>\n",
       "      <td>68.86</td>\n",
       "      <td>69.50</td>\n",
       "      <td>69.90</td>\n",
       "      <td>None</td>\n",
       "      <td>73.23</td>\n",
       "      <td>73.69</td>\n",
       "      <td>72.80</td>\n",
       "      <td>73.45</td>\n",
       "      <td>73.66</td>\n",
       "      <td>None</td>\n",
       "    </tr>\n",
       "    <tr>\n",
       "      <th>1125</th>\n",
       "      <td>2025-06-30 04:00:00</td>\n",
       "      <td>70.15</td>\n",
       "      <td>70.89</td>\n",
       "      <td>69.95</td>\n",
       "      <td>69.95</td>\n",
       "      <td>72.05</td>\n",
       "      <td>None</td>\n",
       "      <td>73.83</td>\n",
       "      <td>74.49</td>\n",
       "      <td>73.59</td>\n",
       "      <td>74.18</td>\n",
       "      <td>74.36</td>\n",
       "      <td>None</td>\n",
       "    </tr>\n",
       "    <tr>\n",
       "      <th>1126</th>\n",
       "      <td>2025-07-01 04:00:00</td>\n",
       "      <td>69.17</td>\n",
       "      <td>69.90</td>\n",
       "      <td>66.50</td>\n",
       "      <td>66.50</td>\n",
       "      <td>69.14</td>\n",
       "      <td>None</td>\n",
       "      <td>73.75</td>\n",
       "      <td>75.64</td>\n",
       "      <td>73.45</td>\n",
       "      <td>75.15</td>\n",
       "      <td>75.45</td>\n",
       "      <td>None</td>\n",
       "    </tr>\n",
       "  </tbody>\n",
       "</table>\n",
       "<p>1127 rows × 13 columns</p>\n",
       "</div>"
      ],
      "text/plain": [
       "                    Time  Open_x  High_x   Low_x  Close_Bid_x  Close_Ask_x  \\\n",
       "0    2021-01-04 04:00:00  125.72  126.76  122.05       124.30       125.13   \n",
       "1    2021-01-05 04:00:00  123.92  127.43  123.91       127.37       128.21   \n",
       "2    2021-01-06 04:00:00  126.26  130.71  125.45       127.71       128.65   \n",
       "3    2021-01-07 04:00:00  130.69  138.18  130.69       137.87       138.83   \n",
       "4    2021-01-08 04:00:00  141.55  145.17  138.86       142.03       143.03   \n",
       "...                  ...     ...     ...     ...          ...          ...   \n",
       "1122 2025-06-25 04:00:00   70.76   71.22   68.59        68.59        69.76   \n",
       "1123 2025-06-26 04:00:00   69.77   71.12   69.55        69.87        72.05   \n",
       "1124 2025-06-27 04:00:00   71.04   71.10   68.86        69.50        69.90   \n",
       "1125 2025-06-30 04:00:00   70.15   70.89   69.95        69.95        72.05   \n",
       "1126 2025-07-01 04:00:00   69.17   69.90   66.50        66.50        69.14   \n",
       "\n",
       "     Volume_x  Open_y  High_y   Low_y  Close_Bid_y  Close_Ask_y Volume_y  \n",
       "0        None  237.79  237.79  227.32       230.84       231.96     None  \n",
       "1        None  230.84  235.54  228.12       235.29       236.11     None  \n",
       "2        None  235.31  235.79  225.40       227.35       228.14     None  \n",
       "3        None  227.55  235.38  226.70       234.43       235.41     None  \n",
       "4        None  234.46  242.68  234.46       242.68       243.22     None  \n",
       "...       ...     ...     ...     ...          ...          ...      ...  \n",
       "1122     None   73.31   74.15   72.36        73.01        73.22     None  \n",
       "1123     None   72.99   73.82   71.56        72.77        73.30     None  \n",
       "1124     None   73.23   73.69   72.80        73.45        73.66     None  \n",
       "1125     None   73.83   74.49   73.59        74.18        74.36     None  \n",
       "1126     None   73.75   75.64   73.45        75.15        75.45     None  \n",
       "\n",
       "[1127 rows x 13 columns]"
      ]
     },
     "execution_count": 14,
     "metadata": {},
     "output_type": "execute_result"
    }
   ],
   "source": [
    "pairs"
   ]
  },
  {
   "cell_type": "markdown",
   "id": "5ffc38d6",
   "metadata": {},
   "source": [
    "## Calculating Bid Mid-price"
   ]
  },
  {
   "cell_type": "code",
   "execution_count": 15,
   "id": "3aa9f57a",
   "metadata": {},
   "outputs": [],
   "source": [
    "pairs[\"Mid_price_bid_x\"] = (pairs[\"Open_x\"] + pairs[\"Close_Bid_x\"])/2\n",
    "pairs[\"Mid_price_bid_y\"] = (pairs[\"Open_y\"] + pairs[\"Close_Bid_y\"])/2"
   ]
  },
  {
   "cell_type": "markdown",
   "id": "94f781d4",
   "metadata": {},
   "source": [
    "## Calculating Ask Mid-price"
   ]
  },
  {
   "cell_type": "code",
   "execution_count": 16,
   "id": "6fe52f3a",
   "metadata": {},
   "outputs": [],
   "source": [
    "pairs[\"Mid_price_ask_x\"] = (pairs[\"Open_x\"] + pairs[\"Close_Ask_x\"])/2\n",
    "pairs[\"Mid_price_ask_y\"] = (pairs[\"Open_y\"] + pairs[\"Close_Ask_y\"])/2"
   ]
  },
  {
   "cell_type": "markdown",
   "id": "c6c823b7",
   "metadata": {},
   "source": [
    "## Pearson Correlation "
   ]
  },
  {
   "cell_type": "code",
   "execution_count": 17,
   "id": "2247af0a",
   "metadata": {},
   "outputs": [
    {
     "data": {
      "text/plain": [
       "0.9570888646836138"
      ]
     },
     "execution_count": 17,
     "metadata": {},
     "output_type": "execute_result"
    }
   ],
   "source": [
    "pairs[\"Close_Bid_x\"].corr(pairs[\"Close_Bid_y\"])"
   ]
  },
  {
   "cell_type": "code",
   "execution_count": 18,
   "id": "ccc7994d",
   "metadata": {},
   "outputs": [
    {
     "data": {
      "text/plain": [
       "0.9568156548036981"
      ]
     },
     "execution_count": 18,
     "metadata": {},
     "output_type": "execute_result"
    }
   ],
   "source": [
    "pairs[\"Close_Ask_x\"].corr(pairs[\"Close_Ask_y\"])"
   ]
  },
  {
   "cell_type": "code",
   "execution_count": 19,
   "id": "31733750",
   "metadata": {},
   "outputs": [
    {
     "data": {
      "text/plain": [
       "0.9563082242051332"
      ]
     },
     "execution_count": 19,
     "metadata": {},
     "output_type": "execute_result"
    }
   ],
   "source": [
    "pairs[\"Open_x\"].corr(pairs[\"Open_y\"])"
   ]
  },
  {
   "cell_type": "code",
   "execution_count": 20,
   "id": "33099ef2",
   "metadata": {},
   "outputs": [
    {
     "data": {
      "text/plain": [
       "0.9569730562289718"
      ]
     },
     "execution_count": 20,
     "metadata": {},
     "output_type": "execute_result"
    }
   ],
   "source": [
    "pairs[\"Mid_price_bid_x\"].corr(pairs[\"Mid_price_bid_y\"])"
   ]
  },
  {
   "cell_type": "code",
   "execution_count": 21,
   "id": "0cf8193e",
   "metadata": {},
   "outputs": [
    {
     "data": {
      "text/plain": [
       "0.9568345522505984"
      ]
     },
     "execution_count": 21,
     "metadata": {},
     "output_type": "execute_result"
    }
   ],
   "source": [
    "pairs[\"Mid_price_ask_x\"].corr(pairs[\"Mid_price_ask_y\"])"
   ]
  },
  {
   "cell_type": "markdown",
   "id": "710bbd74",
   "metadata": {},
   "source": [
    "## Engle_Granger Test (Cointegration test)"
   ]
  },
  {
   "cell_type": "code",
   "execution_count": 22,
   "id": "cae1ff8c",
   "metadata": {},
   "outputs": [],
   "source": [
    "import pandas as pd\n",
    "import statsmodels.api as sm\n",
    "from statsmodels.tsa.stattools import coint"
   ]
  },
  {
   "cell_type": "code",
   "execution_count": 23,
   "id": "7c3593d2",
   "metadata": {},
   "outputs": [],
   "source": [
    "score, pvalue, _ = coint(pairs[\"Close_Bid_x\"],pairs[\"Close_Bid_y\"])"
   ]
  },
  {
   "cell_type": "code",
   "execution_count": 24,
   "id": "fb1bca96",
   "metadata": {},
   "outputs": [
    {
     "data": {
      "text/plain": [
       "0.022907709657666715"
      ]
     },
     "execution_count": 24,
     "metadata": {},
     "output_type": "execute_result"
    }
   ],
   "source": [
    "pvalue"
   ]
  },
  {
   "cell_type": "markdown",
   "id": "28d34506",
   "metadata": {},
   "source": [
    "## Calculating the Return"
   ]
  },
  {
   "cell_type": "code",
   "execution_count": 25,
   "id": "3054a801",
   "metadata": {},
   "outputs": [],
   "source": [
    "pairs_close = pairs[[\"Time\",\"Close_Bid_x\",\"Close_Bid_y\",\"Close_Ask_x\",\"Close_Ask_y\"]].copy()\n",
    "pairs_close[\"close_mid_x\"] = (pairs_close[\"Close_Bid_x\"]/2 + pairs_close[\"Close_Ask_x\"]/2).copy()\n",
    "pairs_close[\"close_mid_y\"] = (pairs_close[\"Close_Bid_y\"]/2 + pairs_close[\"Close_Ask_y\"]/2).copy()"
   ]
  },
  {
   "cell_type": "code",
   "execution_count": 28,
   "id": "7eefd2f3",
   "metadata": {},
   "outputs": [],
   "source": [
    "pairs_close[\"r_close_bid_x\"] = pairs_close[\"Close_Bid_x\"].pct_change().copy()\n",
    "pairs_close[\"r_close_bid_y\"] = pairs_close[\"Close_Bid_y\"].pct_change().copy()\n",
    "pairs_close[\"r_close_ask_x\"] = pairs_close[\"Close_Ask_x\"].pct_change().copy()\n",
    "pairs_close[\"r_close_ask_y\"] = pairs_close[\"Close_Ask_y\"].pct_change().copy()\n",
    "pairs_close[\"r_close_mid_x\"] = pairs_close[\"close_mid_x\"].pct_change().copy()\n",
    "pairs_close[\"r_close_mid_y\"] = pairs_close[\"close_mid_y\"].pct_change().copy()\n",
    "pairs_close = pairs_close.dropna().copy()"
   ]
  },
  {
   "cell_type": "code",
   "execution_count": 30,
   "id": "6fec5c87",
   "metadata": {},
   "outputs": [
    {
     "data": {
      "text/plain": [
       "<Axes: >"
      ]
     },
     "execution_count": 30,
     "metadata": {},
     "output_type": "execute_result"
    },
    {
     "data": {
      "image/png": "[encoded data removed]",
      "text/plain": [
       "<Figure size 1000x500 with 1 Axes>"
      ]
     },
     "metadata": {},
     "output_type": "display_data"
    }
   ],
   "source": [
    "import matplotlib.pyplot as plt \n",
    "\n",
    "pairs_close_3y6m = pairs_close[(pairs_close[\"Time\"] > \"2022-01-01\") & (pairs_close[\"Time\"] < \"2025-07-01\")]\n",
    "pairs_close_3y6m[[\"r_close_mid_x\",\"r_close_mid_y\"]].plot(figsize = (10,5), linewidth = 0.7)"
   ]
  },
  {
   "cell_type": "code",
   "execution_count": 31,
   "id": "7462ad60",
   "metadata": {},
   "outputs": [
    {
     "data": {
      "text/plain": [
       "-0.0007009337319598961"
      ]
     },
     "execution_count": 31,
     "metadata": {},
     "output_type": "execute_result"
    }
   ],
   "source": [
    "pairs_close_3y6m[\"r_close_mid_x\"].mean()\n",
    "pairs_close_3y6m[\"r_close_mid_y\"].mean()"
   ]
  },
  {
   "cell_type": "markdown",
   "id": "5872db38",
   "metadata": {},
   "source": [
    "Furthermore, the mean of the two different equity AARK and PYPL are both close to zero and over a 3Y 6M period the returns seems to be stationary this seems promising for implementing the pairs trading strategy. "
   ]
  },
  {
   "cell_type": "markdown",
   "id": "3a62621c",
   "metadata": {},
   "source": [
    "## Checking Stationarity "
   ]
  },
  {
   "cell_type": "code",
   "execution_count": 32,
   "id": "754d7a13",
   "metadata": {},
   "outputs": [
    {
     "name": "stdout",
     "output_type": "stream",
     "text": [
      "p-value 2.2371149848384097e-10\n",
      "p-value 0.0\n"
     ]
    }
   ],
   "source": [
    "from statsmodels.tsa.stattools import adfuller\n",
    "\n",
    "series1 = pairs_close_3y6m[\"r_close_mid_x\"]\n",
    "series2 = pairs_close_3y6m[\"r_close_mid_y\"]\n",
    "\n",
    "# Run ADF test for series 1\n",
    "adf_result1 = adfuller(series1)\n",
    "print(\"p-value\",adf_result1[1])\n",
    "\n",
    "# Run ADF test for series 2\n",
    "adf_result2 = adfuller(series2)\n",
    "print(\"p-value\",adf_result2[1])"
   ]
  },
  {
   "cell_type": "markdown",
   "id": "017093a6",
   "metadata": {},
   "source": [
    "For both AARK and PYPL returns we reject the null hypothesis at 1% significance level that the returns are not stationary i.e. at 1% significance we can say that the returns are stationary. "
   ]
  },
  {
   "cell_type": "markdown",
   "id": "adc3c999",
   "metadata": {},
   "source": [
    "## Calculating Spread"
   ]
  },
  {
   "cell_type": "code",
   "execution_count": 33,
   "id": "1acc5620",
   "metadata": {},
   "outputs": [],
   "source": [
    "# Spread = return_aark - return_pypl\n",
    "pairs_close[\"spread_close_mid\"] = pairs_close[\"r_close_mid_x\"].copy() - pairs_close[\"r_close_mid_y\"].copy()"
   ]
  },
  {
   "cell_type": "code",
   "execution_count": 35,
   "id": "fb098bea",
   "metadata": {},
   "outputs": [
    {
     "data": {
      "text/plain": [
       "<Axes: >"
      ]
     },
     "execution_count": 35,
     "metadata": {},
     "output_type": "execute_result"
    },
    {
     "data": {
      "image/png": "[encoded data removed]",
      "text/plain": [
       "<Figure size 640x480 with 1 Axes>"
      ]
     },
     "metadata": {},
     "output_type": "display_data"
    }
   ],
   "source": [
    "import matplotlib.pyplot as plt \n",
    "pairs_close[\"spread_close_mid\"].plot()"
   ]
  },
  {
   "cell_type": "markdown",
   "id": "4127d78f",
   "metadata": {},
   "source": [
    "## Estimating the Cointegration Relationship "
   ]
  },
  {
   "cell_type": "code",
   "execution_count": null,
   "id": "be22033f",
   "metadata": {},
   "outputs": [],
   "source": []
  }
 ],
 "metadata": {
  "kernelspec": {
   "display_name": "base",
   "language": "python",
   "name": "python3"
  },
  "language_info": {
   "codemirror_mode": {
    "name": "ipython",
    "version": 3
   },
   "file_extension": ".py",
   "mimetype": "text/x-python",
   "name": "python",
   "nbconvert_exporter": "python",
   "pygments_lexer": "ipython3",
   "version": "3.10.9"
  }
 },
 "nbformat": 4,
 "nbformat_minor": 5
}
